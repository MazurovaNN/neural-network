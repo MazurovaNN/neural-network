{
  "nbformat": 4,
  "nbformat_minor": 0,
  "metadata": {
    "colab": {
      "provenance": [],
      "authorship_tag": "ABX9TyO+lKQv/7J7/6O5i1R4KmqI",
      "include_colab_link": true
    },
    "kernelspec": {
      "name": "python3",
      "display_name": "Python 3"
    },
    "language_info": {
      "name": "python"
    }
  },
  "cells": [
    {
      "cell_type": "markdown",
      "metadata": {
        "id": "view-in-github",
        "colab_type": "text"
      },
      "source": [
        "<a href=\"https://colab.research.google.com/github/MazurovaNN/neural-network/blob/main/lesson1_dz1.ipynb\" target=\"_parent\"><img src=\"https://colab.research.google.com/assets/colab-badge.svg\" alt=\"Open In Colab\"/></a>"
      ]
    },
    {
      "cell_type": "code",
      "execution_count": 1,
      "metadata": {
        "id": "1_sOLP36sLBY"
      },
      "outputs": [],
      "source": [
        "import numpy as np"
      ]
    },
    {
      "cell_type": "code",
      "source": [
        "def sigmoid(x):\n",
        "  # Наша функция активации: f(x) = 1 / (1 + e^(-x))\n",
        "  return 1 / (1 + np.exp(-x))"
      ],
      "metadata": {
        "id": "QvjntoqGscNy"
      },
      "execution_count": 2,
      "outputs": []
    },
    {
      "cell_type": "code",
      "source": [
        "class Neuron:\n",
        "  def __init__(self, weights, bias):\n",
        "    self.weights = weights\n",
        "    self.bias = bias\n",
        "\n",
        "  def feedforward(self, inputs):\n",
        "    # Умножаем входы на веса, прибавляем порог, затем используем функцию активации\n",
        "    total = np.dot(self.weights, inputs) + self.bias\n",
        "    return sigmoid(total)"
      ],
      "metadata": {
        "id": "91nRh_WXstDQ"
      },
      "execution_count": 4,
      "outputs": []
    },
    {
      "cell_type": "code",
      "source": [
        "weights = np.array([0, 1]) # w1 = 0, w2 = 1\n",
        "bias = 4                   # b = 4\n",
        "n = Neuron(weights, bias)\n",
        "\n",
        "x = np.array([2, 3])       # x1 = 2, x2 = 3\n",
        "print(n.feedforward(x))    # 0.9990889488055994"
      ],
      "metadata": {
        "colab": {
          "base_uri": "https://localhost:8080/"
        },
        "id": "NN3Tsy49s2VG",
        "outputId": "9e7370bf-08d4-4772-870e-054c3a241583"
      },
      "execution_count": 5,
      "outputs": [
        {
          "output_type": "stream",
          "name": "stdout",
          "text": [
            "0.9990889488055994\n"
          ]
        }
      ]
    },
    {
      "cell_type": "code",
      "source": [
        "class OurNeuralNetwork:\n",
        "  '''\n",
        "  Нейронная сеть с:\n",
        "    - 2 входами\n",
        "    - скрытым слоем с 2 нейронами (h1, h2)\n",
        "    - выходным слоем с 1 нейроном (o1)\n",
        "  Все нейроны имеют одинаковые веса и пороги:\n",
        "    - w = [0, 1]\n",
        "    - b = 0\n",
        "  '''\n",
        "  def __init__(self):\n",
        "    # Веса\n",
        "    self.w1 = np.random.normal()\n",
        "    self.w2 = np.random.normal()\n",
        "    self.w3 = np.random.normal()\n",
        "    self.w4 = np.random.normal()\n",
        "    self.w5 = np.random.normal()\n",
        "    self.w6 = np.random.normal()\n",
        "\n",
        "    # Пороги\n",
        "    self.b1 = np.random.normal()\n",
        "    self.b2 = np.random.normal()\n",
        "    self.b3 = np.random.normal()\n",
        "\n",
        "  def feedforward(self, x):\n",
        "    # x is a numpy array with 2 elements.\n",
        "    h1 = sigmoid(self.w1 * x[0] + self.w2 * x[1] + self.b1)\n",
        "    h2 = sigmoid(self.w3 * x[0] + self.w4 * x[1] + self.b2)\n",
        "    o1 = sigmoid(self.w5 * h1 + self.w6 * h2 + self.b3)\n",
        "    return o1\n",
        "\n",
        "  def train(self, data, all_y_trues):\n",
        "    '''\n",
        "    - data - массив numpy (n x 2) numpy, n = к-во наблюдений в наборе.\n",
        "    - all_y_trues - массив numpy с n элементами.\n",
        "      Элементы all_y_trues соответствуют наблюдениям в data.\n",
        "    '''\n",
        "    learn_rate = 0.1\n",
        "    epochs = 1000 # сколько раз пройти по всему набору данных\n",
        "\n",
        "    for epoch in range(epochs):\n",
        "      for x, y_true in zip(data, all_y_trues):\n",
        "        # --- Прямой проход (эти значения нам понадобятся позже)\n",
        "        sum_h1 = self.w1 * x[0] + self.w2 * x[1] + self.b1\n",
        "        h1 = sigmoid(sum_h1)\n",
        "\n",
        "        sum_h2 = self.w3 * x[0] + self.w4 * x[1] + self.b2\n",
        "        h2 = sigmoid(sum_h2)\n",
        "\n",
        "        sum_o1 = self.w5 * h1 + self.w6 * h2 + self.b3\n",
        "        o1 = sigmoid(sum_o1)\n",
        "        y_pred = o1\n",
        "\n",
        "        # --- Считаем частные производные.\n",
        "        # --- Имена: d_L_d_w1 = \"частная производная L по w1\"\n",
        "        d_L_d_ypred = -2 * (y_true - y_pred)\n",
        "\n",
        "        # Нейрон o1\n",
        "        d_ypred_d_w5 = h1 * deriv_sigmoid(sum_o1)\n",
        "        d_ypred_d_w6 = h2 * deriv_sigmoid(sum_o1)\n",
        "        d_ypred_d_b3 = deriv_sigmoid(sum_o1)\n",
        "\n",
        "        d_ypred_d_h1 = self.w5 * deriv_sigmoid(sum_o1)\n",
        "        d_ypred_d_h2 = self.w6 * deriv_sigmoid(sum_o1)\n",
        "\n",
        "        # Нейрон h1\n",
        "        d_h1_d_w1 = x[0] * deriv_sigmoid(sum_h1)\n",
        "        d_h1_d_w2 = x[1] * deriv_sigmoid(sum_h1)\n",
        "        d_h1_d_b1 = deriv_sigmoid(sum_h1)\n",
        "\n",
        "        # Нейрон h2\n",
        "        d_h2_d_w3 = x[0] * deriv_sigmoid(sum_h2)\n",
        "        d_h2_d_w4 = x[1] * deriv_sigmoid(sum_h2)\n",
        "        d_h2_d_b2 = deriv_sigmoid(sum_h2)\n",
        "\n",
        "        # --- Обновляем веса и пороги\n",
        "        # Нейрон h1\n",
        "        self.w1 -= learn_rate * d_L_d_ypred * d_ypred_d_h1 * d_h1_d_w1\n",
        "        self.w2 -= learn_rate * d_L_d_ypred * d_ypred_d_h1 * d_h1_d_w2\n",
        "        self.b1 -= learn_rate * d_L_d_ypred * d_ypred_d_h1 * d_h1_d_b1\n",
        "\n",
        "        # Нейрон h2\n",
        "        self.w3 -= learn_rate * d_L_d_ypred * d_ypred_d_h2 * d_h2_d_w3\n",
        "        self.w4 -= learn_rate * d_L_d_ypred * d_ypred_d_h2 * d_h2_d_w4\n",
        "        self.b2 -= learn_rate * d_L_d_ypred * d_ypred_d_h2 * d_h2_d_b2\n",
        "\n",
        "        # Нейрон o1\n",
        "        self.w5 -= learn_rate * d_L_d_ypred * d_ypred_d_w5\n",
        "        self.w6 -= learn_rate * d_L_d_ypred * d_ypred_d_w6\n",
        "        self.b3 -= learn_rate * d_L_d_ypred * d_ypred_d_b3\n",
        "\n",
        "      # --- Считаем полные потери в конце каждой эпохи\n",
        "      if epoch % 100 == 0:\n",
        "        y_preds = np.apply_along_axis(self.feedforward, 1, data)\n",
        "        loss = mse_loss(all_y_trues, y_preds)\n",
        "        print(\"Epoch %d loss: %.3f\" % (epoch, loss))"
      ],
      "metadata": {
        "id": "WXUlXiYQtDaq"
      },
      "execution_count": 6,
      "outputs": []
    },
    {
      "cell_type": "code",
      "source": [
        "def mse_loss(y_true, y_pred):\n",
        "  # y_true и y_pred - массивы numpy одинаковой длины.\n",
        "  return ((y_true - y_pred) ** 2).mean()"
      ],
      "metadata": {
        "id": "nKzLHAfFtSfV"
      },
      "execution_count": 7,
      "outputs": []
    },
    {
      "cell_type": "code",
      "source": [
        "y_true = np.array([1, 0, 0, 1])\n",
        "y_pred = np.array([0, 0, 0, 0])\n",
        "\n",
        "print(mse_loss(y_true, y_pred)) # 0.5"
      ],
      "metadata": {
        "colab": {
          "base_uri": "https://localhost:8080/"
        },
        "id": "VFhYnQdYv690",
        "outputId": "34deae9c-4abd-4269-e4df-114df63d506b"
      },
      "execution_count": 12,
      "outputs": [
        {
          "output_type": "stream",
          "name": "stdout",
          "text": [
            "0.5\n"
          ]
        }
      ]
    },
    {
      "cell_type": "code",
      "source": [
        "def deriv_sigmoid(x):\n",
        "  # Производная сигмоиды: f'(x) = f(x) * (1 - f(x))\n",
        "  fx = sigmoid(x)\n",
        "  return fx * (1 - fx)"
      ],
      "metadata": {
        "id": "CQU5CMRrthkB"
      },
      "execution_count": 8,
      "outputs": []
    },
    {
      "cell_type": "code",
      "source": [
        "# Определим набор данных\n",
        "data = np.array([\n",
        "  [-2, -1],  # Алиса\n",
        "  [25, 6],   # Боб\n",
        "  [17, 4],   # Чарли\n",
        "  [-15, -6], # Диана\n",
        "])\n",
        "all_y_trues = np.array([\n",
        "  1, # Алиса\n",
        "  0, # Боб\n",
        "  0, # Чарли\n",
        "  1, # Диана\n",
        "])\n"
      ],
      "metadata": {
        "id": "sYlYI5MRtr53"
      },
      "execution_count": 9,
      "outputs": []
    },
    {
      "cell_type": "code",
      "source": [
        "network = OurNeuralNetwork()\n",
        "network.train(data, all_y_trues)"
      ],
      "metadata": {
        "colab": {
          "base_uri": "https://localhost:8080/"
        },
        "id": "Xx7U8qVjt66V",
        "outputId": "9c5cc76c-a491-4ba3-ac18-2daec6fb389c"
      },
      "execution_count": 11,
      "outputs": [
        {
          "output_type": "stream",
          "name": "stdout",
          "text": [
            "Epoch 0 loss: 0.246\n",
            "Epoch 100 loss: 0.020\n",
            "Epoch 200 loss: 0.009\n",
            "Epoch 300 loss: 0.006\n",
            "Epoch 400 loss: 0.004\n",
            "Epoch 500 loss: 0.003\n",
            "Epoch 600 loss: 0.003\n",
            "Epoch 700 loss: 0.002\n",
            "Epoch 800 loss: 0.002\n",
            "Epoch 900 loss: 0.002\n"
          ]
        }
      ]
    },
    {
      "cell_type": "code",
      "source": [
        "# Делаем пару предсказаний\n",
        "emily = np.array([-7, -3]) # 128 фунтов (52.35 кг), 63 дюйма (160 см)\n",
        "frank = np.array([20, 2])  # 155 pounds (63.4 кг), 68 inches (173 см)\n",
        "print(\"Эмили: %.3f\" % network.feedforward(emily)) # 0.951 - Ж\n",
        "print(\"Фрэнк: %.3f\" % network.feedforward(frank)) # 0.039 - М"
      ],
      "metadata": {
        "colab": {
          "base_uri": "https://localhost:8080/"
        },
        "id": "24OaqREFuEni",
        "outputId": "8b02c6f8-e37c-4041-aa5a-ef400ddf7313"
      },
      "execution_count": 13,
      "outputs": [
        {
          "output_type": "stream",
          "name": "stdout",
          "text": [
            "Эмили: 0.966\n",
            "Фрэнк: 0.039\n"
          ]
        }
      ]
    },
    {
      "cell_type": "code",
      "source": [
        "# Делаем пару предсказаний для  ДЗ  1\n",
        "nata = np.array([-9, -5]) # 130 фунтов (58.97 кг), 61 дюйм (154.94 см)\n",
        "nik = np.array([26, 5])  # 161 pounds (73.03 кг), 71 inches (180.34 см)\n",
        "print(\"Ната: %.3f\" % network.feedforward(nata)) # 0.966 - Ж\n",
        "print(\"Ник: %.3f\" % network.feedforward(nik)) # 0.039 - М"
      ],
      "metadata": {
        "colab": {
          "base_uri": "https://localhost:8080/"
        },
        "id": "_kqZf_N3xp8v",
        "outputId": "9177243e-60f3-45cb-874b-393d67eb2eef"
      },
      "execution_count": 14,
      "outputs": [
        {
          "output_type": "stream",
          "name": "stdout",
          "text": [
            "Ната: 0.966\n",
            "Ник: 0.039\n"
          ]
        }
      ]
    },
    {
      "cell_type": "code",
      "source": [],
      "metadata": {
        "id": "4NqE_Bja1IsQ"
      },
      "execution_count": null,
      "outputs": []
    }
  ]
}