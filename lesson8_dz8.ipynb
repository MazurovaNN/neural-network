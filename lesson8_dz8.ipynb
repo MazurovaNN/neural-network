{
  "nbformat": 4,
  "nbformat_minor": 0,
  "metadata": {
    "colab": {
      "provenance": [],
      "authorship_tag": "ABX9TyNxsAApTn6qeOiCARC/5kXs",
      "include_colab_link": true
    },
    "kernelspec": {
      "name": "python3",
      "display_name": "Python 3"
    },
    "language_info": {
      "name": "python"
    }
  },
  "cells": [
    {
      "cell_type": "markdown",
      "metadata": {
        "id": "view-in-github",
        "colab_type": "text"
      },
      "source": [
        "<a href=\"https://colab.research.google.com/github/MazurovaNN/neural-network/blob/main/lesson8_dz8.ipynb\" target=\"_parent\"><img src=\"https://colab.research.google.com/assets/colab-badge.svg\" alt=\"Open In Colab\"/></a>"
      ]
    },
    {
      "cell_type": "code",
      "source": [
        "from keras.datasets import boston_housing\n",
        "from keras.models import Sequential\n",
        "from keras.layers import Dense"
      ],
      "metadata": {
        "id": "nUq2HuNgGVBB"
      },
      "execution_count": null,
      "outputs": []
    },
    {
      "cell_type": "markdown",
      "source": [
        "Прогноз стоимости домов для набора данных Boston Housing - regression.\n",
        "\n",
        "Пример решения задачи регрессии."
      ],
      "metadata": {
        "id": "gbQtAdTSHnZf"
      }
    },
    {
      "cell_type": "markdown",
      "source": [],
      "metadata": {
        "id": "-2c57NI9HreO"
      }
    },
    {
      "cell_type": "markdown",
      "source": [
        "**Загрузка набора данных**"
      ],
      "metadata": {
        "id": "Ahd0jkJ4HnHv"
      }
    },
    {
      "cell_type": "code",
      "source": [
        "(x_train, y_train), (x_test, y_test) = boston_housing.load_data()\n"
      ],
      "metadata": {
        "colab": {
          "base_uri": "https://localhost:8080/"
        },
        "id": "G5DTh-lwGarZ",
        "outputId": "78bfb55f-f4cd-4478-ef33-17689fe391f3"
      },
      "execution_count": null,
      "outputs": [
        {
          "output_type": "stream",
          "name": "stdout",
          "text": [
            "Downloading data from https://storage.googleapis.com/tensorflow/tf-keras-datasets/boston_housing.npz\n",
            "57026/57026 [==============================] - 0s 0us/step\n"
          ]
        }
      ]
    },
    {
      "cell_type": "markdown",
      "source": [
        "**Нормализация данных**\n",
        "\n",
        "Вычитаем среднее значение и делим на стандартное отклонение"
      ],
      "metadata": {
        "id": "ZYU1k5yPHygl"
      }
    },
    {
      "cell_type": "code",
      "source": [
        "# Среднее значение\n",
        "mean = x_train.mean(axis=0)\n",
        "# Стандартное отклонение\n",
        "std = x_train.std(axis=0)\n",
        "x_train -= mean\n",
        "x_train /= std\n",
        "x_test -= mean\n",
        "x_test /= std"
      ],
      "metadata": {
        "id": "4GjFfEnCGojU"
      },
      "execution_count": null,
      "outputs": []
    },
    {
      "cell_type": "markdown",
      "source": [
        "**Создаем сеть**\n",
        "\n",
        "Выходной слой с одним линейным нейроном - для задачи регрессии функция активации не используется.\n",
        "\n",
        "Функция ошибки - среднеквадратичное отклонение. Метрика - среднее абсолютное отклонение."
      ],
      "metadata": {
        "id": "gwvHGqdOH-ff"
      }
    },
    {
      "cell_type": "code",
      "source": [
        "model = Sequential()\n",
        "model.add(Dense(128, activation='relu', input_shape=(x_train.shape[1],)))\n",
        "model.add(Dense(1))\n",
        "model.compile(optimizer='adam', loss='mse', metrics=['mae'])"
      ],
      "metadata": {
        "id": "JyRysv_TGu5T"
      },
      "execution_count": null,
      "outputs": []
    },
    {
      "cell_type": "markdown",
      "source": [
        "**Обучение сети**"
      ],
      "metadata": {
        "id": "V5m_Nj7-II9D"
      }
    },
    {
      "cell_type": "code",
      "source": [
        "model.fit(x_train, y_train, epochs=100, batch_size=1, verbose=2)\n"
      ],
      "metadata": {
        "colab": {
          "base_uri": "https://localhost:8080/"
        },
        "id": "Ts2637kYG2BT",
        "outputId": "17c8f706-4329-4b16-e8b5-a3612a9c970a"
      },
      "execution_count": null,
      "outputs": [
        {
          "output_type": "stream",
          "name": "stdout",
          "text": [
            "Epoch 1/100\n",
            "404/404 - 1s - loss: 288.3984 - mae: 13.8694 - 1s/epoch - 3ms/step\n",
            "Epoch 2/100\n",
            "404/404 - 1s - loss: 39.7503 - mae: 4.2286 - 517ms/epoch - 1ms/step\n",
            "Epoch 3/100\n",
            "404/404 - 1s - loss: 24.7974 - mae: 3.3795 - 522ms/epoch - 1ms/step\n",
            "Epoch 4/100\n",
            "404/404 - 1s - loss: 20.5062 - mae: 3.1367 - 531ms/epoch - 1ms/step\n",
            "Epoch 5/100\n",
            "404/404 - 1s - loss: 17.2053 - mae: 2.8689 - 531ms/epoch - 1ms/step\n",
            "Epoch 6/100\n",
            "404/404 - 1s - loss: 15.4497 - mae: 2.7692 - 504ms/epoch - 1ms/step\n",
            "Epoch 7/100\n",
            "404/404 - 1s - loss: 13.6748 - mae: 2.6103 - 514ms/epoch - 1ms/step\n",
            "Epoch 8/100\n",
            "404/404 - 0s - loss: 12.2904 - mae: 2.4422 - 497ms/epoch - 1ms/step\n",
            "Epoch 9/100\n",
            "404/404 - 1s - loss: 11.2805 - mae: 2.3504 - 512ms/epoch - 1ms/step\n",
            "Epoch 10/100\n",
            "404/404 - 1s - loss: 10.6318 - mae: 2.3051 - 506ms/epoch - 1ms/step\n",
            "Epoch 11/100\n",
            "404/404 - 1s - loss: 10.4102 - mae: 2.2907 - 510ms/epoch - 1ms/step\n",
            "Epoch 12/100\n",
            "404/404 - 0s - loss: 9.9415 - mae: 2.2325 - 499ms/epoch - 1ms/step\n",
            "Epoch 13/100\n",
            "404/404 - 1s - loss: 9.7056 - mae: 2.2085 - 504ms/epoch - 1ms/step\n",
            "Epoch 14/100\n",
            "404/404 - 1s - loss: 9.4305 - mae: 2.2183 - 502ms/epoch - 1ms/step\n",
            "Epoch 15/100\n",
            "404/404 - 1s - loss: 9.1499 - mae: 2.1478 - 501ms/epoch - 1ms/step\n",
            "Epoch 16/100\n",
            "404/404 - 1s - loss: 9.1016 - mae: 2.1147 - 513ms/epoch - 1ms/step\n",
            "Epoch 17/100\n",
            "404/404 - 0s - loss: 8.8990 - mae: 2.1409 - 499ms/epoch - 1ms/step\n",
            "Epoch 18/100\n",
            "404/404 - 1s - loss: 8.5269 - mae: 2.0236 - 587ms/epoch - 1ms/step\n",
            "Epoch 19/100\n",
            "404/404 - 1s - loss: 8.1654 - mae: 2.0039 - 724ms/epoch - 2ms/step\n",
            "Epoch 20/100\n",
            "404/404 - 1s - loss: 8.3833 - mae: 2.0504 - 721ms/epoch - 2ms/step\n",
            "Epoch 21/100\n",
            "404/404 - 1s - loss: 7.9393 - mae: 2.0023 - 756ms/epoch - 2ms/step\n",
            "Epoch 22/100\n",
            "404/404 - 1s - loss: 8.1306 - mae: 2.0067 - 605ms/epoch - 1ms/step\n",
            "Epoch 23/100\n",
            "404/404 - 1s - loss: 7.9728 - mae: 2.0241 - 501ms/epoch - 1ms/step\n",
            "Epoch 24/100\n",
            "404/404 - 1s - loss: 7.7871 - mae: 1.9833 - 507ms/epoch - 1ms/step\n",
            "Epoch 25/100\n",
            "404/404 - 1s - loss: 7.8094 - mae: 1.9898 - 509ms/epoch - 1ms/step\n",
            "Epoch 26/100\n",
            "404/404 - 0s - loss: 7.5612 - mae: 1.9330 - 493ms/epoch - 1ms/step\n",
            "Epoch 27/100\n",
            "404/404 - 1s - loss: 7.6289 - mae: 1.9365 - 513ms/epoch - 1ms/step\n",
            "Epoch 28/100\n",
            "404/404 - 1s - loss: 7.6141 - mae: 1.9458 - 505ms/epoch - 1ms/step\n",
            "Epoch 29/100\n",
            "404/404 - 1s - loss: 7.1119 - mae: 1.8789 - 528ms/epoch - 1ms/step\n",
            "Epoch 30/100\n",
            "404/404 - 0s - loss: 7.4197 - mae: 1.9343 - 496ms/epoch - 1ms/step\n",
            "Epoch 31/100\n",
            "404/404 - 1s - loss: 7.0780 - mae: 1.8795 - 513ms/epoch - 1ms/step\n",
            "Epoch 32/100\n",
            "404/404 - 1s - loss: 6.9775 - mae: 1.9021 - 508ms/epoch - 1ms/step\n",
            "Epoch 33/100\n",
            "404/404 - 1s - loss: 6.9411 - mae: 1.8499 - 528ms/epoch - 1ms/step\n",
            "Epoch 34/100\n",
            "404/404 - 1s - loss: 6.9289 - mae: 1.8676 - 506ms/epoch - 1ms/step\n",
            "Epoch 35/100\n",
            "404/404 - 1s - loss: 6.7311 - mae: 1.8099 - 507ms/epoch - 1ms/step\n",
            "Epoch 36/100\n",
            "404/404 - 1s - loss: 6.7279 - mae: 1.8502 - 502ms/epoch - 1ms/step\n",
            "Epoch 37/100\n",
            "404/404 - 0s - loss: 6.8060 - mae: 1.8524 - 496ms/epoch - 1ms/step\n",
            "Epoch 38/100\n",
            "404/404 - 0s - loss: 6.7714 - mae: 1.8592 - 490ms/epoch - 1ms/step\n",
            "Epoch 39/100\n",
            "404/404 - 1s - loss: 6.4333 - mae: 1.8285 - 536ms/epoch - 1ms/step\n",
            "Epoch 40/100\n",
            "404/404 - 0s - loss: 6.5880 - mae: 1.8055 - 494ms/epoch - 1ms/step\n",
            "Epoch 41/100\n",
            "404/404 - 1s - loss: 6.7016 - mae: 1.8453 - 505ms/epoch - 1ms/step\n",
            "Epoch 42/100\n",
            "404/404 - 1s - loss: 6.3862 - mae: 1.7950 - 739ms/epoch - 2ms/step\n",
            "Epoch 43/100\n",
            "404/404 - 1s - loss: 6.4791 - mae: 1.7891 - 693ms/epoch - 2ms/step\n",
            "Epoch 44/100\n",
            "404/404 - 1s - loss: 6.3261 - mae: 1.7922 - 724ms/epoch - 2ms/step\n",
            "Epoch 45/100\n",
            "404/404 - 1s - loss: 6.1336 - mae: 1.7356 - 657ms/epoch - 2ms/step\n",
            "Epoch 46/100\n",
            "404/404 - 1s - loss: 6.4905 - mae: 1.8217 - 509ms/epoch - 1ms/step\n",
            "Epoch 47/100\n",
            "404/404 - 0s - loss: 6.1574 - mae: 1.7518 - 480ms/epoch - 1ms/step\n",
            "Epoch 48/100\n",
            "404/404 - 1s - loss: 6.0343 - mae: 1.7209 - 506ms/epoch - 1ms/step\n",
            "Epoch 49/100\n",
            "404/404 - 0s - loss: 6.3012 - mae: 1.8009 - 491ms/epoch - 1ms/step\n",
            "Epoch 50/100\n",
            "404/404 - 1s - loss: 6.2563 - mae: 1.7292 - 534ms/epoch - 1ms/step\n",
            "Epoch 51/100\n",
            "404/404 - 1s - loss: 6.0516 - mae: 1.7166 - 516ms/epoch - 1ms/step\n",
            "Epoch 52/100\n",
            "404/404 - 1s - loss: 6.0661 - mae: 1.7838 - 532ms/epoch - 1ms/step\n",
            "Epoch 53/100\n",
            "404/404 - 0s - loss: 5.9767 - mae: 1.7316 - 489ms/epoch - 1ms/step\n",
            "Epoch 54/100\n",
            "404/404 - 1s - loss: 6.0184 - mae: 1.7314 - 517ms/epoch - 1ms/step\n",
            "Epoch 55/100\n",
            "404/404 - 0s - loss: 5.8160 - mae: 1.7218 - 498ms/epoch - 1ms/step\n",
            "Epoch 56/100\n",
            "404/404 - 1s - loss: 5.9866 - mae: 1.7207 - 522ms/epoch - 1ms/step\n",
            "Epoch 57/100\n",
            "404/404 - 1s - loss: 5.7798 - mae: 1.6961 - 513ms/epoch - 1ms/step\n",
            "Epoch 58/100\n",
            "404/404 - 1s - loss: 5.7636 - mae: 1.7269 - 518ms/epoch - 1ms/step\n",
            "Epoch 59/100\n",
            "404/404 - 1s - loss: 5.6288 - mae: 1.6740 - 512ms/epoch - 1ms/step\n",
            "Epoch 60/100\n",
            "404/404 - 1s - loss: 5.6063 - mae: 1.6652 - 528ms/epoch - 1ms/step\n",
            "Epoch 61/100\n",
            "404/404 - 1s - loss: 5.3958 - mae: 1.6564 - 505ms/epoch - 1ms/step\n",
            "Epoch 62/100\n",
            "404/404 - 1s - loss: 5.5648 - mae: 1.6780 - 523ms/epoch - 1ms/step\n",
            "Epoch 63/100\n",
            "404/404 - 1s - loss: 5.5594 - mae: 1.6656 - 501ms/epoch - 1ms/step\n",
            "Epoch 64/100\n",
            "404/404 - 1s - loss: 5.4638 - mae: 1.6397 - 534ms/epoch - 1ms/step\n",
            "Epoch 65/100\n",
            "404/404 - 1s - loss: 5.6715 - mae: 1.6835 - 691ms/epoch - 2ms/step\n",
            "Epoch 66/100\n",
            "404/404 - 1s - loss: 5.6115 - mae: 1.6840 - 662ms/epoch - 2ms/step\n",
            "Epoch 67/100\n",
            "404/404 - 1s - loss: 5.5256 - mae: 1.6497 - 710ms/epoch - 2ms/step\n",
            "Epoch 68/100\n",
            "404/404 - 1s - loss: 5.4576 - mae: 1.6692 - 776ms/epoch - 2ms/step\n",
            "Epoch 69/100\n",
            "404/404 - 1s - loss: 5.2301 - mae: 1.6202 - 515ms/epoch - 1ms/step\n",
            "Epoch 70/100\n",
            "404/404 - 0s - loss: 5.3362 - mae: 1.6474 - 497ms/epoch - 1ms/step\n",
            "Epoch 71/100\n",
            "404/404 - 1s - loss: 5.2604 - mae: 1.6205 - 517ms/epoch - 1ms/step\n",
            "Epoch 72/100\n",
            "404/404 - 1s - loss: 5.2224 - mae: 1.6258 - 503ms/epoch - 1ms/step\n",
            "Epoch 73/100\n",
            "404/404 - 1s - loss: 5.0233 - mae: 1.5873 - 506ms/epoch - 1ms/step\n",
            "Epoch 74/100\n",
            "404/404 - 0s - loss: 5.0624 - mae: 1.5775 - 496ms/epoch - 1ms/step\n",
            "Epoch 75/100\n",
            "404/404 - 1s - loss: 5.2967 - mae: 1.6157 - 514ms/epoch - 1ms/step\n",
            "Epoch 76/100\n",
            "404/404 - 1s - loss: 5.2343 - mae: 1.6342 - 514ms/epoch - 1ms/step\n",
            "Epoch 77/100\n",
            "404/404 - 1s - loss: 5.2547 - mae: 1.6204 - 503ms/epoch - 1ms/step\n",
            "Epoch 78/100\n",
            "404/404 - 1s - loss: 5.1513 - mae: 1.6152 - 532ms/epoch - 1ms/step\n",
            "Epoch 79/100\n",
            "404/404 - 1s - loss: 5.0258 - mae: 1.5770 - 519ms/epoch - 1ms/step\n",
            "Epoch 80/100\n",
            "404/404 - 1s - loss: 5.0824 - mae: 1.6161 - 511ms/epoch - 1ms/step\n",
            "Epoch 81/100\n",
            "404/404 - 1s - loss: 5.0673 - mae: 1.5766 - 522ms/epoch - 1ms/step\n",
            "Epoch 82/100\n",
            "404/404 - 0s - loss: 5.1145 - mae: 1.5660 - 498ms/epoch - 1ms/step\n",
            "Epoch 83/100\n",
            "404/404 - 1s - loss: 4.9924 - mae: 1.5870 - 510ms/epoch - 1ms/step\n",
            "Epoch 84/100\n",
            "404/404 - 0s - loss: 4.7680 - mae: 1.5673 - 485ms/epoch - 1ms/step\n",
            "Epoch 85/100\n",
            "404/404 - 1s - loss: 4.7516 - mae: 1.5636 - 513ms/epoch - 1ms/step\n",
            "Epoch 86/100\n",
            "404/404 - 1s - loss: 4.7040 - mae: 1.5335 - 505ms/epoch - 1ms/step\n",
            "Epoch 87/100\n",
            "404/404 - 1s - loss: 4.7922 - mae: 1.5397 - 512ms/epoch - 1ms/step\n",
            "Epoch 88/100\n",
            "404/404 - 1s - loss: 4.7453 - mae: 1.5336 - 590ms/epoch - 1ms/step\n",
            "Epoch 89/100\n",
            "404/404 - 1s - loss: 4.7407 - mae: 1.5529 - 679ms/epoch - 2ms/step\n",
            "Epoch 90/100\n",
            "404/404 - 1s - loss: 4.9092 - mae: 1.5787 - 711ms/epoch - 2ms/step\n",
            "Epoch 91/100\n",
            "404/404 - 1s - loss: 4.7192 - mae: 1.5029 - 739ms/epoch - 2ms/step\n",
            "Epoch 92/100\n",
            "404/404 - 1s - loss: 4.7684 - mae: 1.5155 - 597ms/epoch - 1ms/step\n",
            "Epoch 93/100\n",
            "404/404 - 1s - loss: 4.7434 - mae: 1.5570 - 537ms/epoch - 1ms/step\n",
            "Epoch 94/100\n",
            "404/404 - 1s - loss: 4.5770 - mae: 1.5123 - 508ms/epoch - 1ms/step\n",
            "Epoch 95/100\n",
            "404/404 - 1s - loss: 4.8176 - mae: 1.5500 - 513ms/epoch - 1ms/step\n",
            "Epoch 96/100\n",
            "404/404 - 1s - loss: 4.7028 - mae: 1.5062 - 501ms/epoch - 1ms/step\n",
            "Epoch 97/100\n",
            "404/404 - 1s - loss: 4.5860 - mae: 1.5016 - 532ms/epoch - 1ms/step\n",
            "Epoch 98/100\n",
            "404/404 - 1s - loss: 4.5146 - mae: 1.4756 - 500ms/epoch - 1ms/step\n",
            "Epoch 99/100\n",
            "404/404 - 1s - loss: 4.6007 - mae: 1.5027 - 536ms/epoch - 1ms/step\n",
            "Epoch 100/100\n",
            "404/404 - 1s - loss: 4.6572 - mae: 1.5149 - 501ms/epoch - 1ms/step\n"
          ]
        },
        {
          "output_type": "execute_result",
          "data": {
            "text/plain": [
              "<keras.src.callbacks.History at 0x7a6ddcbf8d30>"
            ]
          },
          "metadata": {},
          "execution_count": 12
        }
      ]
    },
    {
      "cell_type": "markdown",
      "source": [
        "**Оценка точности работы сети**"
      ],
      "metadata": {
        "id": "1sab4F1QIUSL"
      }
    },
    {
      "cell_type": "code",
      "source": [
        "mse, mae = model.evaluate(x_test, y_test, verbose=0)"
      ],
      "metadata": {
        "id": "oVxUZYs3HOg7"
      },
      "execution_count": null,
      "outputs": []
    },
    {
      "cell_type": "code",
      "source": [
        "print(\"Средняя абсолютная ошибка (тысяч долларов):\", mae)"
      ],
      "metadata": {
        "colab": {
          "base_uri": "https://localhost:8080/"
        },
        "id": "H2Roy0uiHQfA",
        "outputId": "d967d40b-88f6-4178-c219-dade02d31356"
      },
      "execution_count": null,
      "outputs": [
        {
          "output_type": "stream",
          "name": "stdout",
          "text": [
            "Средняя абсолютная ошибка (тысяч долларов): 2.3218321800231934\n"
          ]
        }
      ]
    },
    {
      "cell_type": "markdown",
      "source": [
        "**Использование сети для предсказания цен недвижимости**"
      ],
      "metadata": {
        "id": "egmwZ6Z7IiPe"
      }
    },
    {
      "cell_type": "code",
      "source": [
        "pred = model.predict(x_test)"
      ],
      "metadata": {
        "colab": {
          "base_uri": "https://localhost:8080/"
        },
        "id": "IwyhAN42HVQP",
        "outputId": "c166418d-cbf5-4f1d-cce2-e2dac3ee5f35"
      },
      "execution_count": null,
      "outputs": [
        {
          "output_type": "stream",
          "name": "stdout",
          "text": [
            "4/4 [==============================] - 0s 3ms/step\n"
          ]
        }
      ]
    },
    {
      "cell_type": "code",
      "source": [
        "print(\"Предсказанная стоимость:\", pred[1][0], \", правильная стоимость:\", y_test[1])"
      ],
      "metadata": {
        "colab": {
          "base_uri": "https://localhost:8080/"
        },
        "id": "bz833v3fHZ1A",
        "outputId": "17eb7e5d-bdd0-432f-c77d-4de355abf75c"
      },
      "execution_count": null,
      "outputs": [
        {
          "output_type": "stream",
          "name": "stdout",
          "text": [
            "Предсказанная стоимость: 18.107115 , правильная стоимость: 18.8\n"
          ]
        }
      ]
    },
    {
      "cell_type": "markdown",
      "source": [
        "**ВЫВОДЫ**\n",
        "\n",
        "Как было указано выше  для задачи регрессии функция активации не используется.\n",
        "\n",
        "Функция ошибки - среднеквадратичное отклонение.\n",
        "Метрика - среднее абсолютное отклонение.\n",
        "\n",
        "в результате проделанной работы, ошибка варьируется 1.5-1.6, таким образом достигли достаточно высокой  точности предсказания 98,4-98,5\n",
        "в натуральной величине средняя абсолютная ошибка 2000дол.\n",
        "\n",
        "При решении подобных задач, можно и покупателям и продавцам объектов правильно предсказывать стоимость планируемых инвестиций с использованием проверреной архитектуры, без риска переплаты покупателями и без риска потери доходов продавцами.\n",
        "\n",
        "А также своевременное получение денег продавцами, тем самым меньше тратить на рекламу, на оплату работы персонала, менеджеров по продажам.\n",
        "\n",
        "Работа обученной сети себя оправдала!\n",
        "\n"
      ],
      "metadata": {
        "id": "rahyeNQ1ItNi"
      }
    }
  ]
}