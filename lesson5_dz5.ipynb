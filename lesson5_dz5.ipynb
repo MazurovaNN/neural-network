{
  "nbformat": 4,
  "nbformat_minor": 0,
  "metadata": {
    "colab": {
      "provenance": [],
      "authorship_tag": "ABX9TyOcVRQVoYKAtIVvRGnOkdO9",
      "include_colab_link": true
    },
    "kernelspec": {
      "name": "python3",
      "display_name": "Python 3"
    },
    "language_info": {
      "name": "python"
    }
  },
  "cells": [
    {
      "cell_type": "markdown",
      "metadata": {
        "id": "view-in-github",
        "colab_type": "text"
      },
      "source": [
        "<a href=\"https://colab.research.google.com/github/MazurovaNN/neural-network/blob/main/lesson5_dz5.ipynb\" target=\"_parent\"><img src=\"https://colab.research.google.com/assets/colab-badge.svg\" alt=\"Open In Colab\"/></a>"
      ]
    },
    {
      "cell_type": "code",
      "execution_count": 1,
      "metadata": {
        "id": "XB5zyEa2TsRa"
      },
      "outputs": [],
      "source": [
        "import re"
      ]
    },
    {
      "cell_type": "code",
      "source": [
        "with open('train_data.txt', 'r', encoding='utf-8') as f:\n",
        "    text = f.read()\n",
        "    text = text.replace('\\ufeff', '') # убираем первый невидимый символ\n",
        "    text = re.sub(r'[^А-я ]', '', text) # убираем все недопустимые символы"
      ],
      "metadata": {
        "id": "3rfkN6LsT578"
      },
      "execution_count": 3,
      "outputs": []
    },
    {
      "cell_type": "code",
      "source": [
        "text"
      ],
      "metadata": {
        "colab": {
          "base_uri": "https://localhost:8080/",
          "height": 70
        },
        "id": "vggqurqTUUZf",
        "outputId": "cec18455-6125-47c8-915a-b12e1ebcfcaf"
      },
      "execution_count": 4,
      "outputs": [
        {
          "output_type": "execute_result",
          "data": {
            "text/plain": [
              "'Вы  лучший ответ на проблемы которые возникли в понедельникДумайте позитивно и верьте в свою способность достигать отличных результатовЕсли вы смогли в понедельник подняться с постели значит вы супер герой'"
            ],
            "application/vnd.google.colaboratory.intrinsic+json": {
              "type": "string"
            }
          },
          "metadata": {},
          "execution_count": 4
        }
      ]
    },
    {
      "cell_type": "code",
      "source": [
        "len(text)"
      ],
      "metadata": {
        "colab": {
          "base_uri": "https://localhost:8080/"
        },
        "id": "IW-yph5OUZ8f",
        "outputId": "0b7192d4-964f-4fb3-e3b9-01d967080d95"
      },
      "execution_count": 5,
      "outputs": [
        {
          "output_type": "execute_result",
          "data": {
            "text/plain": [
              "205"
            ]
          },
          "metadata": {},
          "execution_count": 5
        }
      ]
    },
    {
      "cell_type": "code",
      "source": [
        "num_characters = 34 #33 буквы + пробел"
      ],
      "metadata": {
        "id": "HFWvT7eHUhX2"
      },
      "execution_count": 6,
      "outputs": []
    },
    {
      "cell_type": "code",
      "source": [
        "import keras\n",
        "from keras.preprocessing.text import Tokenizer"
      ],
      "metadata": {
        "id": "7W8z4M0cUq6_"
      },
      "execution_count": 7,
      "outputs": []
    },
    {
      "cell_type": "code",
      "source": [
        "tokenizer = Tokenizer(num_words=num_characters, char_level=True)"
      ],
      "metadata": {
        "id": "-hk8fqm3UxXk"
      },
      "execution_count": 8,
      "outputs": []
    },
    {
      "cell_type": "code",
      "source": [
        "tokenizer.fit_on_texts(text)"
      ],
      "metadata": {
        "id": "xjQlw4fsU3Y2"
      },
      "execution_count": 9,
      "outputs": []
    },
    {
      "cell_type": "code",
      "source": [
        "print(tokenizer.word_index)"
      ],
      "metadata": {
        "colab": {
          "base_uri": "https://localhost:8080/"
        },
        "id": "UR_jEdMsU9UL",
        "outputId": "f49f344e-5a57-410d-be42-78d4663f15fb"
      },
      "execution_count": 10,
      "outputs": [
        {
          "output_type": "stream",
          "name": "stdout",
          "text": [
            "{' ': 1, 'о': 2, 'т': 3, 'е': 4, 'и': 5, 'в': 6, 'н': 7, 'с': 8, 'л': 9, 'п': 10, 'ь': 11, 'ы': 12, 'р': 13, 'а': 14, 'д': 15, 'у': 16, 'к': 17, 'з': 18, 'ч': 19, 'й': 20, 'м': 21, 'г': 22, 'б': 23, 'я': 24, 'ш': 25, 'ю': 26, 'х': 27}\n"
          ]
        }
      ]
    },
    {
      "cell_type": "code",
      "source": [
        "inp_chars = 6 #\n",
        "data = tokenizer.texts_to_matrix(text)"
      ],
      "metadata": {
        "id": "tuma2JmEVEBh"
      },
      "execution_count": 11,
      "outputs": []
    },
    {
      "cell_type": "code",
      "source": [
        "data[1]"
      ],
      "metadata": {
        "colab": {
          "base_uri": "https://localhost:8080/"
        },
        "id": "0WwmwuK8VJWr",
        "outputId": "3197ca1a-f0ec-474b-d339-b000d5b328b7"
      },
      "execution_count": 12,
      "outputs": [
        {
          "output_type": "execute_result",
          "data": {
            "text/plain": [
              "array([0., 0., 0., 0., 0., 0., 0., 0., 0., 0., 0., 0., 1., 0., 0., 0., 0.,\n",
              "       0., 0., 0., 0., 0., 0., 0., 0., 0., 0., 0., 0., 0., 0., 0., 0., 0.])"
            ]
          },
          "metadata": {},
          "execution_count": 12
        }
      ]
    },
    {
      "cell_type": "code",
      "source": [
        "n = data.shape[0]-inp_chars\n",
        "n  #размер обучающего множества"
      ],
      "metadata": {
        "colab": {
          "base_uri": "https://localhost:8080/"
        },
        "id": "gjcOKaU_VP_o",
        "outputId": "f6193937-69b9-405a-a361-d220d60a3b74"
      },
      "execution_count": 13,
      "outputs": [
        {
          "output_type": "execute_result",
          "data": {
            "text/plain": [
              "199"
            ]
          },
          "metadata": {},
          "execution_count": 13
        }
      ]
    },
    {
      "cell_type": "code",
      "source": [
        "import numpy as np"
      ],
      "metadata": {
        "id": "zitzJ7IvVWem"
      },
      "execution_count": 14,
      "outputs": []
    },
    {
      "cell_type": "code",
      "source": [
        "X = np.array([data[i:i+inp_chars, :] for i in range(n)])\n",
        "Y = data[inp_chars:] #предсказание следующего символа"
      ],
      "metadata": {
        "id": "s_g9Blv3VfOh"
      },
      "execution_count": 15,
      "outputs": []
    },
    {
      "cell_type": "code",
      "source": [
        "len(X)"
      ],
      "metadata": {
        "colab": {
          "base_uri": "https://localhost:8080/"
        },
        "id": "_hbVd3oJVl2S",
        "outputId": "3e611ee6-232f-482b-ef7e-860012d3508a"
      },
      "execution_count": 16,
      "outputs": [
        {
          "output_type": "execute_result",
          "data": {
            "text/plain": [
              "199"
            ]
          },
          "metadata": {},
          "execution_count": 16
        }
      ]
    },
    {
      "cell_type": "code",
      "source": [
        "X[0]"
      ],
      "metadata": {
        "colab": {
          "base_uri": "https://localhost:8080/"
        },
        "id": "xcUieWTjVqId",
        "outputId": "99ea62a0-d141-4c52-eebf-8fe67eb8ac17"
      },
      "execution_count": 17,
      "outputs": [
        {
          "output_type": "execute_result",
          "data": {
            "text/plain": [
              "array([[0., 0., 0., 0., 0., 0., 1., 0., 0., 0., 0., 0., 0., 0., 0., 0.,\n",
              "        0., 0., 0., 0., 0., 0., 0., 0., 0., 0., 0., 0., 0., 0., 0., 0.,\n",
              "        0., 0.],\n",
              "       [0., 0., 0., 0., 0., 0., 0., 0., 0., 0., 0., 0., 1., 0., 0., 0.,\n",
              "        0., 0., 0., 0., 0., 0., 0., 0., 0., 0., 0., 0., 0., 0., 0., 0.,\n",
              "        0., 0.],\n",
              "       [0., 1., 0., 0., 0., 0., 0., 0., 0., 0., 0., 0., 0., 0., 0., 0.,\n",
              "        0., 0., 0., 0., 0., 0., 0., 0., 0., 0., 0., 0., 0., 0., 0., 0.,\n",
              "        0., 0.],\n",
              "       [0., 1., 0., 0., 0., 0., 0., 0., 0., 0., 0., 0., 0., 0., 0., 0.,\n",
              "        0., 0., 0., 0., 0., 0., 0., 0., 0., 0., 0., 0., 0., 0., 0., 0.,\n",
              "        0., 0.],\n",
              "       [0., 0., 0., 0., 0., 0., 0., 0., 0., 1., 0., 0., 0., 0., 0., 0.,\n",
              "        0., 0., 0., 0., 0., 0., 0., 0., 0., 0., 0., 0., 0., 0., 0., 0.,\n",
              "        0., 0.],\n",
              "       [0., 0., 0., 0., 0., 0., 0., 0., 0., 0., 0., 0., 0., 0., 0., 0.,\n",
              "        1., 0., 0., 0., 0., 0., 0., 0., 0., 0., 0., 0., 0., 0., 0., 0.,\n",
              "        0., 0.]])"
            ]
          },
          "metadata": {},
          "execution_count": 17
        }
      ]
    },
    {
      "cell_type": "code",
      "source": [
        "Y[0]"
      ],
      "metadata": {
        "colab": {
          "base_uri": "https://localhost:8080/"
        },
        "id": "tnaljnDZVwEW",
        "outputId": "64acd89c-bf97-4d6b-ab2f-b6a4abb5de64"
      },
      "execution_count": 18,
      "outputs": [
        {
          "output_type": "execute_result",
          "data": {
            "text/plain": [
              "array([0., 0., 0., 0., 0., 0., 0., 0., 0., 0., 0., 0., 0., 0., 0., 0., 0.,\n",
              "       0., 0., 1., 0., 0., 0., 0., 0., 0., 0., 0., 0., 0., 0., 0., 0., 0.])"
            ]
          },
          "metadata": {},
          "execution_count": 18
        }
      ]
    },
    {
      "cell_type": "code",
      "source": [
        "from keras.layers import *\n",
        "from keras.models import Sequential"
      ],
      "metadata": {
        "id": "uvkJ9O09V1Cv"
      },
      "execution_count": 19,
      "outputs": []
    },
    {
      "cell_type": "code",
      "source": [
        "model = Sequential()\n",
        "model.add(Input((inp_chars, num_characters)))\n",
        "model.add(SimpleRNN(500, activation='tanh'))\n",
        "model.add(Dense(num_characters, activation='softmax'))\n",
        "model.summary()"
      ],
      "metadata": {
        "colab": {
          "base_uri": "https://localhost:8080/"
        },
        "id": "NW-OfcjnV9Dz",
        "outputId": "7dc2d869-d55e-464b-ba9f-4c5f607268cf"
      },
      "execution_count": 20,
      "outputs": [
        {
          "output_type": "stream",
          "name": "stdout",
          "text": [
            "Model: \"sequential\"\n",
            "_________________________________________________________________\n",
            " Layer (type)                Output Shape              Param #   \n",
            "=================================================================\n",
            " simple_rnn (SimpleRNN)      (None, 500)               267500    \n",
            "                                                                 \n",
            " dense (Dense)               (None, 34)                17034     \n",
            "                                                                 \n",
            "=================================================================\n",
            "Total params: 284534 (1.09 MB)\n",
            "Trainable params: 284534 (1.09 MB)\n",
            "Non-trainable params: 0 (0.00 Byte)\n",
            "_________________________________________________________________\n"
          ]
        }
      ]
    },
    {
      "cell_type": "code",
      "source": [
        "model.compile(loss='categorical_crossentropy', metrics=['accuracy'], optimizer='adam')\n",
        "history = model.fit(X, Y, batch_size=32, epochs=100)"
      ],
      "metadata": {
        "colab": {
          "base_uri": "https://localhost:8080/"
        },
        "id": "smFfRgyvWFvS",
        "outputId": "27c8d2b6-6225-4ff7-b8cb-4dee977ba361"
      },
      "execution_count": 21,
      "outputs": [
        {
          "output_type": "stream",
          "name": "stdout",
          "text": [
            "Epoch 1/100\n",
            "7/7 [==============================] - 1s 15ms/step - loss: 3.4065 - accuracy: 0.0603\n",
            "Epoch 2/100\n",
            "7/7 [==============================] - 0s 15ms/step - loss: 2.4539 - accuracy: 0.3116\n",
            "Epoch 3/100\n",
            "7/7 [==============================] - 0s 14ms/step - loss: 1.9974 - accuracy: 0.4271\n",
            "Epoch 4/100\n",
            "7/7 [==============================] - 0s 15ms/step - loss: 1.5312 - accuracy: 0.6131\n",
            "Epoch 5/100\n",
            "7/7 [==============================] - 0s 15ms/step - loss: 1.2990 - accuracy: 0.5678\n",
            "Epoch 6/100\n",
            "7/7 [==============================] - 0s 15ms/step - loss: 1.0440 - accuracy: 0.6482\n",
            "Epoch 7/100\n",
            "7/7 [==============================] - 0s 15ms/step - loss: 0.8782 - accuracy: 0.7387\n",
            "Epoch 8/100\n",
            "7/7 [==============================] - 0s 15ms/step - loss: 0.7814 - accuracy: 0.8141\n",
            "Epoch 9/100\n",
            "7/7 [==============================] - 0s 22ms/step - loss: 0.7560 - accuracy: 0.7789\n",
            "Epoch 10/100\n",
            "7/7 [==============================] - 0s 24ms/step - loss: 0.6273 - accuracy: 0.8492\n",
            "Epoch 11/100\n",
            "7/7 [==============================] - 0s 26ms/step - loss: 0.6201 - accuracy: 0.8342\n",
            "Epoch 12/100\n",
            "7/7 [==============================] - 0s 21ms/step - loss: 0.5885 - accuracy: 0.8693\n",
            "Epoch 13/100\n",
            "7/7 [==============================] - 0s 22ms/step - loss: 0.4541 - accuracy: 0.8844\n",
            "Epoch 14/100\n",
            "7/7 [==============================] - 0s 22ms/step - loss: 0.4213 - accuracy: 0.9045\n",
            "Epoch 15/100\n",
            "7/7 [==============================] - 0s 23ms/step - loss: 0.3438 - accuracy: 0.9397\n",
            "Epoch 16/100\n",
            "7/7 [==============================] - 0s 23ms/step - loss: 0.3469 - accuracy: 0.9296\n",
            "Epoch 17/100\n",
            "7/7 [==============================] - 0s 22ms/step - loss: 0.2958 - accuracy: 0.9397\n",
            "Epoch 18/100\n",
            "7/7 [==============================] - 0s 22ms/step - loss: 0.2701 - accuracy: 0.9497\n",
            "Epoch 19/100\n",
            "7/7 [==============================] - 0s 23ms/step - loss: 0.2191 - accuracy: 0.9548\n",
            "Epoch 20/100\n",
            "7/7 [==============================] - 0s 24ms/step - loss: 0.2120 - accuracy: 0.9749\n",
            "Epoch 21/100\n",
            "7/7 [==============================] - 0s 23ms/step - loss: 0.1940 - accuracy: 0.9698\n",
            "Epoch 22/100\n",
            "7/7 [==============================] - 0s 26ms/step - loss: 0.1506 - accuracy: 0.9648\n",
            "Epoch 23/100\n",
            "7/7 [==============================] - 0s 23ms/step - loss: 0.1872 - accuracy: 0.9648\n",
            "Epoch 24/100\n",
            "7/7 [==============================] - 0s 24ms/step - loss: 0.1582 - accuracy: 0.9849\n",
            "Epoch 25/100\n",
            "7/7 [==============================] - 0s 24ms/step - loss: 0.1546 - accuracy: 0.9799\n",
            "Epoch 26/100\n",
            "7/7 [==============================] - 0s 14ms/step - loss: 0.1689 - accuracy: 0.9548\n",
            "Epoch 27/100\n",
            "7/7 [==============================] - 0s 14ms/step - loss: 0.2024 - accuracy: 0.9749\n",
            "Epoch 28/100\n",
            "7/7 [==============================] - 0s 15ms/step - loss: 0.2127 - accuracy: 0.9447\n",
            "Epoch 29/100\n",
            "7/7 [==============================] - 0s 14ms/step - loss: 0.1867 - accuracy: 0.9548\n",
            "Epoch 30/100\n",
            "7/7 [==============================] - 0s 15ms/step - loss: 0.2071 - accuracy: 0.9397\n",
            "Epoch 31/100\n",
            "7/7 [==============================] - 0s 14ms/step - loss: 0.1979 - accuracy: 0.9598\n",
            "Epoch 32/100\n",
            "7/7 [==============================] - 0s 14ms/step - loss: 0.1909 - accuracy: 0.9548\n",
            "Epoch 33/100\n",
            "7/7 [==============================] - 0s 15ms/step - loss: 0.1387 - accuracy: 0.9799\n",
            "Epoch 34/100\n",
            "7/7 [==============================] - 0s 14ms/step - loss: 0.1340 - accuracy: 0.9648\n",
            "Epoch 35/100\n",
            "7/7 [==============================] - 0s 15ms/step - loss: 0.0822 - accuracy: 0.9899\n",
            "Epoch 36/100\n",
            "7/7 [==============================] - 0s 16ms/step - loss: 0.0954 - accuracy: 0.9849\n",
            "Epoch 37/100\n",
            "7/7 [==============================] - 0s 15ms/step - loss: 0.0868 - accuracy: 0.9799\n",
            "Epoch 38/100\n",
            "7/7 [==============================] - 0s 15ms/step - loss: 0.1047 - accuracy: 0.9749\n",
            "Epoch 39/100\n",
            "7/7 [==============================] - 0s 14ms/step - loss: 0.1632 - accuracy: 0.9749\n",
            "Epoch 40/100\n",
            "7/7 [==============================] - 0s 17ms/step - loss: 0.1932 - accuracy: 0.9799\n",
            "Epoch 41/100\n",
            "7/7 [==============================] - 0s 15ms/step - loss: 0.1483 - accuracy: 0.9849\n",
            "Epoch 42/100\n",
            "7/7 [==============================] - 0s 15ms/step - loss: 0.1057 - accuracy: 0.9849\n",
            "Epoch 43/100\n",
            "7/7 [==============================] - 0s 15ms/step - loss: 0.0664 - accuracy: 0.9849\n",
            "Epoch 44/100\n",
            "7/7 [==============================] - 0s 17ms/step - loss: 0.0741 - accuracy: 0.9799\n",
            "Epoch 45/100\n",
            "7/7 [==============================] - 0s 15ms/step - loss: 0.0655 - accuracy: 0.9849\n",
            "Epoch 46/100\n",
            "7/7 [==============================] - 0s 16ms/step - loss: 0.0461 - accuracy: 0.9899\n",
            "Epoch 47/100\n",
            "7/7 [==============================] - 0s 15ms/step - loss: 0.0407 - accuracy: 0.9950\n",
            "Epoch 48/100\n",
            "7/7 [==============================] - 0s 15ms/step - loss: 0.0436 - accuracy: 0.9899\n",
            "Epoch 49/100\n",
            "7/7 [==============================] - 0s 15ms/step - loss: 0.0382 - accuracy: 0.9899\n",
            "Epoch 50/100\n",
            "7/7 [==============================] - 0s 15ms/step - loss: 0.0406 - accuracy: 0.9950\n",
            "Epoch 51/100\n",
            "7/7 [==============================] - 0s 15ms/step - loss: 0.0416 - accuracy: 0.9899\n",
            "Epoch 52/100\n",
            "7/7 [==============================] - 0s 16ms/step - loss: 0.0502 - accuracy: 0.9899\n",
            "Epoch 53/100\n",
            "7/7 [==============================] - 0s 15ms/step - loss: 0.0545 - accuracy: 0.9849\n",
            "Epoch 54/100\n",
            "7/7 [==============================] - 0s 15ms/step - loss: 0.0606 - accuracy: 0.9849\n",
            "Epoch 55/100\n",
            "7/7 [==============================] - 0s 15ms/step - loss: 0.0424 - accuracy: 0.9849\n",
            "Epoch 56/100\n",
            "7/7 [==============================] - 0s 16ms/step - loss: 0.0681 - accuracy: 0.9749\n",
            "Epoch 57/100\n",
            "7/7 [==============================] - 0s 15ms/step - loss: 0.0429 - accuracy: 0.9849\n",
            "Epoch 58/100\n",
            "7/7 [==============================] - 0s 17ms/step - loss: 0.1874 - accuracy: 0.9698\n",
            "Epoch 59/100\n",
            "7/7 [==============================] - 0s 14ms/step - loss: 0.1958 - accuracy: 0.9698\n",
            "Epoch 60/100\n",
            "7/7 [==============================] - 0s 14ms/step - loss: 0.1623 - accuracy: 0.9698\n",
            "Epoch 61/100\n",
            "7/7 [==============================] - 0s 15ms/step - loss: 0.1089 - accuracy: 0.9849\n",
            "Epoch 62/100\n",
            "7/7 [==============================] - 0s 14ms/step - loss: 0.0700 - accuracy: 0.9849\n",
            "Epoch 63/100\n",
            "7/7 [==============================] - 0s 15ms/step - loss: 0.0743 - accuracy: 0.9799\n",
            "Epoch 64/100\n",
            "7/7 [==============================] - 0s 14ms/step - loss: 0.0496 - accuracy: 0.9950\n",
            "Epoch 65/100\n",
            "7/7 [==============================] - 0s 14ms/step - loss: 0.0559 - accuracy: 0.9799\n",
            "Epoch 66/100\n",
            "7/7 [==============================] - 0s 15ms/step - loss: 0.2043 - accuracy: 0.9698\n",
            "Epoch 67/100\n",
            "7/7 [==============================] - 0s 17ms/step - loss: 0.0615 - accuracy: 0.9849\n",
            "Epoch 68/100\n",
            "7/7 [==============================] - 0s 15ms/step - loss: 0.0528 - accuracy: 0.9799\n",
            "Epoch 69/100\n",
            "7/7 [==============================] - 0s 15ms/step - loss: 0.0574 - accuracy: 0.9849\n",
            "Epoch 70/100\n",
            "7/7 [==============================] - 0s 16ms/step - loss: 0.0379 - accuracy: 0.9950\n",
            "Epoch 71/100\n",
            "7/7 [==============================] - 0s 16ms/step - loss: 0.0339 - accuracy: 0.9899\n",
            "Epoch 72/100\n",
            "7/7 [==============================] - 0s 15ms/step - loss: 0.0476 - accuracy: 0.9849\n",
            "Epoch 73/100\n",
            "7/7 [==============================] - 0s 15ms/step - loss: 0.0406 - accuracy: 0.9899\n",
            "Epoch 74/100\n",
            "7/7 [==============================] - 0s 15ms/step - loss: 0.0318 - accuracy: 0.9950\n",
            "Epoch 75/100\n",
            "7/7 [==============================] - 0s 14ms/step - loss: 0.0258 - accuracy: 0.9950\n",
            "Epoch 76/100\n",
            "7/7 [==============================] - 0s 16ms/step - loss: 0.0330 - accuracy: 0.9950\n",
            "Epoch 77/100\n",
            "7/7 [==============================] - 0s 15ms/step - loss: 0.0304 - accuracy: 0.9899\n",
            "Epoch 78/100\n",
            "7/7 [==============================] - 0s 15ms/step - loss: 0.0238 - accuracy: 0.9950\n",
            "Epoch 79/100\n",
            "7/7 [==============================] - 0s 15ms/step - loss: 0.0316 - accuracy: 0.9899\n",
            "Epoch 80/100\n",
            "7/7 [==============================] - 0s 14ms/step - loss: 0.0401 - accuracy: 0.9849\n",
            "Epoch 81/100\n",
            "7/7 [==============================] - 0s 15ms/step - loss: 0.0414 - accuracy: 0.9899\n",
            "Epoch 82/100\n",
            "7/7 [==============================] - 0s 14ms/step - loss: 0.0265 - accuracy: 0.9849\n",
            "Epoch 83/100\n",
            "7/7 [==============================] - 0s 15ms/step - loss: 0.0247 - accuracy: 0.9950\n",
            "Epoch 84/100\n",
            "7/7 [==============================] - 0s 14ms/step - loss: 0.0243 - accuracy: 0.9899\n",
            "Epoch 85/100\n",
            "7/7 [==============================] - 0s 16ms/step - loss: 0.0209 - accuracy: 0.9950\n",
            "Epoch 86/100\n",
            "7/7 [==============================] - 0s 13ms/step - loss: 0.0214 - accuracy: 0.9950\n",
            "Epoch 87/100\n",
            "7/7 [==============================] - 0s 14ms/step - loss: 0.0516 - accuracy: 0.9899\n",
            "Epoch 88/100\n",
            "7/7 [==============================] - 0s 15ms/step - loss: 0.0550 - accuracy: 0.9950\n",
            "Epoch 89/100\n",
            "7/7 [==============================] - 0s 15ms/step - loss: 0.0423 - accuracy: 0.9950\n",
            "Epoch 90/100\n",
            "7/7 [==============================] - 0s 15ms/step - loss: 0.0280 - accuracy: 0.9950\n",
            "Epoch 91/100\n",
            "7/7 [==============================] - 0s 15ms/step - loss: 0.0183 - accuracy: 0.9950\n",
            "Epoch 92/100\n",
            "7/7 [==============================] - 0s 15ms/step - loss: 0.0189 - accuracy: 0.9950\n",
            "Epoch 93/100\n",
            "7/7 [==============================] - 0s 15ms/step - loss: 0.0192 - accuracy: 0.9950\n",
            "Epoch 94/100\n",
            "7/7 [==============================] - 0s 17ms/step - loss: 0.0176 - accuracy: 0.9950\n",
            "Epoch 95/100\n",
            "7/7 [==============================] - 0s 16ms/step - loss: 0.0182 - accuracy: 0.9950\n",
            "Epoch 96/100\n",
            "7/7 [==============================] - 0s 14ms/step - loss: 0.0166 - accuracy: 0.9950\n",
            "Epoch 97/100\n",
            "7/7 [==============================] - 0s 15ms/step - loss: 0.0159 - accuracy: 0.9950\n",
            "Epoch 98/100\n",
            "7/7 [==============================] - 0s 15ms/step - loss: 0.0157 - accuracy: 0.9899\n",
            "Epoch 99/100\n",
            "7/7 [==============================] - 0s 15ms/step - loss: 0.0156 - accuracy: 0.9950\n",
            "Epoch 100/100\n",
            "7/7 [==============================] - 0s 15ms/step - loss: 0.0162 - accuracy: 0.9950\n"
          ]
        }
      ]
    },
    {
      "cell_type": "code",
      "source": [
        "def buildPhrase(inp_str, str_len = 50):\n",
        "  for i in range(str_len):\n",
        "    x = []\n",
        "    for j in range(i, i+inp_chars):\n",
        "      x.append(tokenizer.texts_to_matrix(inp_str[j])) # преобразуем символы в One-Hot-encoding\n",
        "\n",
        "    x = np.array(x)\n",
        "    inp = x.reshape(1, inp_chars, num_characters)\n",
        "\n",
        "    pred = model.predict( inp ) # предсказываем OHE четвертого символа\n",
        "    d = tokenizer.index_word[pred.argmax(axis=1)[0]] # получаем ответ в символьном представлении\n",
        "\n",
        "    inp_str += d # дописываем строку\n",
        "\n",
        "  return inp_str"
      ],
      "metadata": {
        "id": "1y0IPoSSWTxO"
      },
      "execution_count": 22,
      "outputs": []
    },
    {
      "cell_type": "code",
      "source": [
        "res = buildPhrase(\"утренн\")\n",
        "print(res)"
      ],
      "metadata": {
        "colab": {
          "base_uri": "https://localhost:8080/"
        },
        "id": "KdrSIOkbWb__",
        "outputId": "0baef214-4173-4973-e976-c4944d3a5a4d"
      },
      "execution_count": 23,
      "outputs": [
        {
          "output_type": "stream",
          "name": "stdout",
          "text": [
            "1/1 [==============================] - 0s 181ms/step\n",
            "1/1 [==============================] - 0s 21ms/step\n",
            "1/1 [==============================] - 0s 21ms/step\n",
            "1/1 [==============================] - 0s 25ms/step\n",
            "1/1 [==============================] - 0s 21ms/step\n",
            "1/1 [==============================] - 0s 22ms/step\n",
            "1/1 [==============================] - 0s 21ms/step\n",
            "1/1 [==============================] - 0s 26ms/step\n",
            "1/1 [==============================] - 0s 20ms/step\n",
            "1/1 [==============================] - 0s 22ms/step\n",
            "1/1 [==============================] - 0s 20ms/step\n",
            "1/1 [==============================] - 0s 21ms/step\n",
            "1/1 [==============================] - 0s 23ms/step\n",
            "1/1 [==============================] - 0s 30ms/step\n",
            "1/1 [==============================] - 0s 23ms/step\n",
            "1/1 [==============================] - 0s 25ms/step\n",
            "1/1 [==============================] - 0s 21ms/step\n",
            "1/1 [==============================] - 0s 21ms/step\n",
            "1/1 [==============================] - 0s 20ms/step\n",
            "1/1 [==============================] - 0s 21ms/step\n",
            "1/1 [==============================] - 0s 22ms/step\n",
            "1/1 [==============================] - 0s 22ms/step\n",
            "1/1 [==============================] - 0s 23ms/step\n",
            "1/1 [==============================] - 0s 21ms/step\n",
            "1/1 [==============================] - 0s 22ms/step\n",
            "1/1 [==============================] - 0s 22ms/step\n",
            "1/1 [==============================] - 0s 26ms/step\n",
            "1/1 [==============================] - 0s 21ms/step\n",
            "1/1 [==============================] - 0s 21ms/step\n",
            "1/1 [==============================] - 0s 21ms/step\n",
            "1/1 [==============================] - 0s 22ms/step\n",
            "1/1 [==============================] - 0s 27ms/step\n",
            "1/1 [==============================] - 0s 20ms/step\n",
            "1/1 [==============================] - 0s 20ms/step\n",
            "1/1 [==============================] - 0s 21ms/step\n",
            "1/1 [==============================] - 0s 24ms/step\n",
            "1/1 [==============================] - 0s 21ms/step\n",
            "1/1 [==============================] - 0s 21ms/step\n",
            "1/1 [==============================] - 0s 21ms/step\n",
            "1/1 [==============================] - 0s 32ms/step\n",
            "1/1 [==============================] - 0s 22ms/step\n",
            "1/1 [==============================] - 0s 23ms/step\n",
            "1/1 [==============================] - 0s 21ms/step\n",
            "1/1 [==============================] - 0s 23ms/step\n",
            "1/1 [==============================] - 0s 21ms/step\n",
            "1/1 [==============================] - 0s 20ms/step\n",
            "1/1 [==============================] - 0s 21ms/step\n",
            "1/1 [==============================] - 0s 22ms/step\n",
            "1/1 [==============================] - 0s 20ms/step\n",
            "1/1 [==============================] - 0s 20ms/step\n",
            "утренноитввд на гяоблопт коньи п доттьга с отлтчных резу\n"
          ]
        }
      ]
    },
    {
      "cell_type": "markdown",
      "source": [
        "СЛОВА"
      ],
      "metadata": {
        "id": "eIs2wEvwWtC5"
      }
    },
    {
      "cell_type": "code",
      "source": [
        "with open('train_data.txt', 'r', encoding='utf-8') as f:\n",
        "    texts = f.read()\n",
        "    texts = texts.replace('\\ufeff', '') # убираем первый невидимый символ"
      ],
      "metadata": {
        "id": "9Xpo35oSf8WN"
      },
      "execution_count": 53,
      "outputs": []
    },
    {
      "cell_type": "code",
      "source": [
        "maxWordsCount = 1000\n",
        "tokenizer = Tokenizer(num_words=maxWordsCount, filters='!–\"—#$%&()*+,-./:;<=>?@[\\]^_`{|}~\\t\\n\\r«»',\n",
        "                       lower=True, split=' ', char_level=False)\n",
        "tokenizer.fit_on_texts([texts])"
      ],
      "metadata": {
        "id": "wtUmEzKZgJWn"
      },
      "execution_count": 54,
      "outputs": []
    },
    {
      "cell_type": "code",
      "source": [
        "print(tokenizer.word_index)"
      ],
      "metadata": {
        "colab": {
          "base_uri": "https://localhost:8080/"
        },
        "id": "Qdb1MecEgM4k",
        "outputId": "5f074828-473c-47c4-f4e9-a0180bdbff57"
      },
      "execution_count": 55,
      "outputs": [
        {
          "output_type": "stream",
          "name": "stdout",
          "text": [
            "{'вы': 1, 'в': 2, 'понедельник': 3, 'лучший': 4, 'ответ': 5, 'на': 6, 'проблемы': 7, 'которые': 8, 'возникли': 9, 'думайте': 10, 'позитивно': 11, 'и': 12, 'верьте': 13, 'свою': 14, 'способность': 15, 'достигать': 16, 'отличных': 17, 'результатов': 18, 'если': 19, 'смогли': 20, 'подняться': 21, 'с': 22, 'постели': 23, 'значит': 24, 'супер': 25, 'герой': 26}\n"
          ]
        }
      ]
    },
    {
      "cell_type": "code",
      "source": [
        "dist = list(tokenizer.word_counts.items())\n",
        "print(dist[:10])"
      ],
      "metadata": {
        "colab": {
          "base_uri": "https://localhost:8080/"
        },
        "id": "XR2-xHI9gXD-",
        "outputId": "e5fa3f63-7a81-4ce9-d945-b68d3dc0d0cc"
      },
      "execution_count": 56,
      "outputs": [
        {
          "output_type": "stream",
          "name": "stdout",
          "text": [
            "[('вы', 3), ('лучший', 1), ('ответ', 1), ('на', 1), ('проблемы', 1), ('которые', 1), ('возникли', 1), ('в', 3), ('понедельник', 2), ('думайте', 1)]\n"
          ]
        }
      ]
    },
    {
      "cell_type": "code",
      "source": [
        "data = tokenizer.texts_to_sequences([texts])"
      ],
      "metadata": {
        "id": "gritRowvgZYY"
      },
      "execution_count": 57,
      "outputs": []
    },
    {
      "cell_type": "code",
      "source": [
        "data"
      ],
      "metadata": {
        "colab": {
          "base_uri": "https://localhost:8080/"
        },
        "id": "9nPIrolrgeaA",
        "outputId": "ea4daaad-bab5-4940-e3ce-63a5f71af42b"
      },
      "execution_count": 58,
      "outputs": [
        {
          "output_type": "execute_result",
          "data": {
            "text/plain": [
              "[[1,\n",
              "  4,\n",
              "  5,\n",
              "  6,\n",
              "  7,\n",
              "  8,\n",
              "  9,\n",
              "  2,\n",
              "  3,\n",
              "  10,\n",
              "  11,\n",
              "  12,\n",
              "  13,\n",
              "  2,\n",
              "  14,\n",
              "  15,\n",
              "  16,\n",
              "  17,\n",
              "  18,\n",
              "  19,\n",
              "  1,\n",
              "  20,\n",
              "  2,\n",
              "  3,\n",
              "  21,\n",
              "  22,\n",
              "  23,\n",
              "  24,\n",
              "  1,\n",
              "  25,\n",
              "  26]]"
            ]
          },
          "metadata": {},
          "execution_count": 58
        }
      ]
    },
    {
      "cell_type": "code",
      "source": [
        "len (data[0])"
      ],
      "metadata": {
        "colab": {
          "base_uri": "https://localhost:8080/"
        },
        "id": "WdyX7ekBgh9K",
        "outputId": "67c1bf67-c076-4c30-9aee-1c9bb4d2a15e"
      },
      "execution_count": 59,
      "outputs": [
        {
          "output_type": "execute_result",
          "data": {
            "text/plain": [
              "31"
            ]
          },
          "metadata": {},
          "execution_count": 59
        }
      ]
    },
    {
      "cell_type": "code",
      "source": [
        "res = keras.utils.to_categorical(data[0], num_classes=maxWordsCount)\n",
        "print( res.shape )"
      ],
      "metadata": {
        "colab": {
          "base_uri": "https://localhost:8080/"
        },
        "id": "pKrIe67qgnNE",
        "outputId": "4a064822-adb2-4cee-87ef-f3182eadfe6f"
      },
      "execution_count": 60,
      "outputs": [
        {
          "output_type": "stream",
          "name": "stdout",
          "text": [
            "(31, 1000)\n"
          ]
        }
      ]
    },
    {
      "cell_type": "code",
      "source": [
        "inp_words = 3\n",
        "n = res.shape[0]-inp_words"
      ],
      "metadata": {
        "id": "jaaBCV1jgrGU"
      },
      "execution_count": 61,
      "outputs": []
    },
    {
      "cell_type": "code",
      "source": [
        "X = np.array([res[i:i+inp_words, :] for i in range(n)])\n",
        "Y = res[inp_words:]\n",
        ""
      ],
      "metadata": {
        "id": "mGM1pII2gvmb"
      },
      "execution_count": 62,
      "outputs": []
    },
    {
      "cell_type": "code",
      "source": [
        "model = Sequential()\n",
        "model.add(Input((inp_words, maxWordsCount)))\n",
        "model.add(SimpleRNN(128, activation='tanh'))\n",
        "model.add(Dense(maxWordsCount, activation='softmax'))\n",
        "model.summary()\n",
        "\n",
        "model.compile(loss='categorical_crossentropy', metrics=['accuracy'], optimizer='adam')"
      ],
      "metadata": {
        "colab": {
          "base_uri": "https://localhost:8080/"
        },
        "id": "rUafc5pXg3NX",
        "outputId": "8f64a99f-f7dd-456c-cee4-0249596ba82f"
      },
      "execution_count": 63,
      "outputs": [
        {
          "output_type": "stream",
          "name": "stdout",
          "text": [
            "Model: \"sequential_2\"\n",
            "_________________________________________________________________\n",
            " Layer (type)                Output Shape              Param #   \n",
            "=================================================================\n",
            " simple_rnn_2 (SimpleRNN)    (None, 128)               144512    \n",
            "                                                                 \n",
            " dense_2 (Dense)             (None, 1000)              129000    \n",
            "                                                                 \n",
            "=================================================================\n",
            "Total params: 273512 (1.04 MB)\n",
            "Trainable params: 273512 (1.04 MB)\n",
            "Non-trainable params: 0 (0.00 Byte)\n",
            "_________________________________________________________________\n"
          ]
        }
      ]
    },
    {
      "cell_type": "code",
      "source": [
        "history = model.fit(X, Y, batch_size=32, epochs=13)"
      ],
      "metadata": {
        "colab": {
          "base_uri": "https://localhost:8080/"
        },
        "id": "s2J7ijXGg8m7",
        "outputId": "eb96251a-0676-405c-ecd6-d24d202ba7b3"
      },
      "execution_count": 64,
      "outputs": [
        {
          "output_type": "stream",
          "name": "stdout",
          "text": [
            "Epoch 1/13\n",
            "1/1 [==============================] - 1s 1s/step - loss: 6.9082 - accuracy: 0.0000e+00\n",
            "Epoch 2/13\n",
            "1/1 [==============================] - 0s 18ms/step - loss: 6.8823 - accuracy: 0.0000e+00\n",
            "Epoch 3/13\n",
            "1/1 [==============================] - 0s 17ms/step - loss: 6.8560 - accuracy: 0.0000e+00\n",
            "Epoch 4/13\n",
            "1/1 [==============================] - 0s 18ms/step - loss: 6.8292 - accuracy: 0.0357\n",
            "Epoch 5/13\n",
            "1/1 [==============================] - 0s 19ms/step - loss: 6.8015 - accuracy: 0.3929\n",
            "Epoch 6/13\n",
            "1/1 [==============================] - 0s 18ms/step - loss: 6.7726 - accuracy: 0.6071\n",
            "Epoch 7/13\n",
            "1/1 [==============================] - 0s 16ms/step - loss: 6.7423 - accuracy: 0.8571\n",
            "Epoch 8/13\n",
            "1/1 [==============================] - 0s 20ms/step - loss: 6.7102 - accuracy: 0.9286\n",
            "Epoch 9/13\n",
            "1/1 [==============================] - 0s 16ms/step - loss: 6.6759 - accuracy: 0.9286\n",
            "Epoch 10/13\n",
            "1/1 [==============================] - 0s 15ms/step - loss: 6.6389 - accuracy: 0.9286\n",
            "Epoch 11/13\n",
            "1/1 [==============================] - 0s 14ms/step - loss: 6.5987 - accuracy: 0.9286\n",
            "Epoch 12/13\n",
            "1/1 [==============================] - 0s 17ms/step - loss: 6.5547 - accuracy: 0.9643\n",
            "Epoch 13/13\n",
            "1/1 [==============================] - 0s 16ms/step - loss: 6.5062 - accuracy: 1.0000\n"
          ]
        }
      ]
    },
    {
      "cell_type": "code",
      "source": [
        "def buildPhrase(texts, str_len = 20):\n",
        "  res = texts\n",
        "  data = tokenizer.texts_to_sequences([texts])[0]\n",
        "  for i in range(str_len):\n",
        "    x = keras.utils.to_categorical(data[i: i+inp_words], num_classes=maxWordsCount) # преобразуем в One-Hot-encoding\n",
        "    inp = x.reshape(1, inp_words, maxWordsCount)\n",
        "\n",
        "    pred = model.predict( inp ) # предсказываем OHE четвертого символа\n",
        "    indx = pred.argmax(axis=1)[0]\n",
        "    data.append(indx)\n",
        "\n",
        "    res += \" \" + tokenizer.index_word[indx] # дописываем строку\n",
        "\n",
        "  return res"
      ],
      "metadata": {
        "id": "AZwrca9IhEYr"
      },
      "execution_count": 65,
      "outputs": []
    },
    {
      "cell_type": "code",
      "source": [
        "res = buildPhrase(\"лучший ответ на проблемы\")\n",
        "print(res)"
      ],
      "metadata": {
        "colab": {
          "base_uri": "https://localhost:8080/"
        },
        "id": "SD8aPfZ-hKYA",
        "outputId": "d5cbde36-4305-4cea-95dc-b9120b2b53da"
      },
      "execution_count": 67,
      "outputs": [
        {
          "output_type": "stream",
          "name": "stdout",
          "text": [
            "1/1 [==============================] - 0s 155ms/step\n",
            "1/1 [==============================] - 0s 21ms/step\n",
            "1/1 [==============================] - 0s 31ms/step\n",
            "1/1 [==============================] - 0s 38ms/step\n",
            "1/1 [==============================] - 0s 35ms/step\n",
            "1/1 [==============================] - 0s 30ms/step\n",
            "1/1 [==============================] - 0s 32ms/step\n",
            "1/1 [==============================] - 0s 30ms/step\n",
            "1/1 [==============================] - 0s 33ms/step\n",
            "1/1 [==============================] - 0s 31ms/step\n",
            "1/1 [==============================] - 0s 33ms/step\n",
            "1/1 [==============================] - 0s 31ms/step\n",
            "1/1 [==============================] - 0s 30ms/step\n",
            "1/1 [==============================] - 0s 29ms/step\n",
            "1/1 [==============================] - 0s 29ms/step\n",
            "1/1 [==============================] - 0s 34ms/step\n",
            "1/1 [==============================] - 0s 29ms/step\n",
            "1/1 [==============================] - 0s 32ms/step\n",
            "1/1 [==============================] - 0s 42ms/step\n",
            "1/1 [==============================] - 0s 41ms/step\n",
            "лучший ответ на проблемы проблемы которые возникли возникли в понедельник понедельник думайте позитивно постели и верьте в супер свою способность позитивно смогли отличных понедельник\n"
          ]
        }
      ]
    },
    {
      "cell_type": "code",
      "source": [
        "res = buildPhrase(\"вы в понедельник\")\n",
        "print(res)"
      ],
      "metadata": {
        "colab": {
          "base_uri": "https://localhost:8080/"
        },
        "id": "VRof5gYUhmEz",
        "outputId": "1c5a4f78-0b00-44ae-cd2f-0faf37a53eda"
      },
      "execution_count": 68,
      "outputs": [
        {
          "output_type": "stream",
          "name": "stdout",
          "text": [
            "1/1 [==============================] - 0s 109ms/step\n",
            "1/1 [==============================] - 0s 61ms/step\n",
            "1/1 [==============================] - 0s 24ms/step\n",
            "1/1 [==============================] - 0s 21ms/step\n",
            "1/1 [==============================] - 0s 20ms/step\n",
            "1/1 [==============================] - 0s 20ms/step\n",
            "1/1 [==============================] - 0s 23ms/step\n",
            "1/1 [==============================] - 0s 23ms/step\n",
            "1/1 [==============================] - 0s 21ms/step\n",
            "1/1 [==============================] - 0s 33ms/step\n",
            "1/1 [==============================] - 0s 33ms/step\n",
            "1/1 [==============================] - 0s 32ms/step\n",
            "1/1 [==============================] - 0s 30ms/step\n",
            "1/1 [==============================] - 0s 34ms/step\n",
            "1/1 [==============================] - 0s 31ms/step\n",
            "1/1 [==============================] - 0s 29ms/step\n",
            "1/1 [==============================] - 0s 30ms/step\n",
            "1/1 [==============================] - 0s 31ms/step\n",
            "1/1 [==============================] - 0s 30ms/step\n",
            "1/1 [==============================] - 0s 34ms/step\n",
            "вы в понедельник понедельник позитивно и и в свою способность достигать отличных результатов если вы смогли в понедельник подняться с постели значит вы\n"
          ]
        }
      ]
    },
    {
      "cell_type": "code",
      "source": [
        "res = buildPhrase(\"если вы смогли\")\n",
        "print(res)"
      ],
      "metadata": {
        "colab": {
          "base_uri": "https://localhost:8080/"
        },
        "id": "rSyMtxf3iIJ3",
        "outputId": "a9135eaf-74f7-423c-db31-28fa51c14df9"
      },
      "execution_count": 69,
      "outputs": [
        {
          "output_type": "stream",
          "name": "stdout",
          "text": [
            "1/1 [==============================] - 0s 22ms/step\n",
            "1/1 [==============================] - 0s 20ms/step\n",
            "1/1 [==============================] - 0s 20ms/step\n",
            "1/1 [==============================] - 0s 22ms/step\n",
            "1/1 [==============================] - 0s 20ms/step\n",
            "1/1 [==============================] - 0s 22ms/step\n",
            "1/1 [==============================] - 0s 23ms/step\n",
            "1/1 [==============================] - 0s 23ms/step\n",
            "1/1 [==============================] - 0s 20ms/step\n",
            "1/1 [==============================] - 0s 23ms/step\n",
            "1/1 [==============================] - 0s 23ms/step\n",
            "1/1 [==============================] - 0s 22ms/step\n",
            "1/1 [==============================] - 0s 23ms/step\n",
            "1/1 [==============================] - 0s 22ms/step\n",
            "1/1 [==============================] - 0s 22ms/step\n",
            "1/1 [==============================] - 0s 21ms/step\n",
            "1/1 [==============================] - 0s 21ms/step\n",
            "1/1 [==============================] - 0s 22ms/step\n",
            "1/1 [==============================] - 0s 22ms/step\n",
            "1/1 [==============================] - 0s 22ms/step\n",
            "если вы смогли в понедельник подняться с постели значит вы супер герой на подняться которые возникли в понедельник думайте позитивно и верьте в\n"
          ]
        }
      ]
    },
    {
      "cell_type": "code",
      "source": [
        "res = buildPhrase(\"верьте в свою способность\")\n",
        "print(res)"
      ],
      "metadata": {
        "colab": {
          "base_uri": "https://localhost:8080/"
        },
        "id": "VnVwJE-fiP5d",
        "outputId": "5d5eea8a-51bc-49ee-f142-094b0cccfec1"
      },
      "execution_count": 70,
      "outputs": [
        {
          "output_type": "stream",
          "name": "stdout",
          "text": [
            "1/1 [==============================] - 0s 22ms/step\n",
            "1/1 [==============================] - 0s 22ms/step\n",
            "1/1 [==============================] - 0s 21ms/step\n",
            "1/1 [==============================] - 0s 22ms/step\n",
            "1/1 [==============================] - 0s 20ms/step\n",
            "1/1 [==============================] - 0s 21ms/step\n",
            "1/1 [==============================] - 0s 23ms/step\n",
            "1/1 [==============================] - 0s 21ms/step\n",
            "1/1 [==============================] - 0s 22ms/step\n",
            "1/1 [==============================] - 0s 22ms/step\n",
            "1/1 [==============================] - 0s 21ms/step\n",
            "1/1 [==============================] - 0s 20ms/step\n",
            "1/1 [==============================] - 0s 21ms/step\n",
            "1/1 [==============================] - 0s 25ms/step\n",
            "1/1 [==============================] - 0s 20ms/step\n",
            "1/1 [==============================] - 0s 21ms/step\n",
            "1/1 [==============================] - 0s 21ms/step\n",
            "1/1 [==============================] - 0s 21ms/step\n",
            "1/1 [==============================] - 0s 23ms/step\n",
            "1/1 [==============================] - 0s 24ms/step\n",
            "верьте в свою способность способность достигать отличных отличных результатов если вы вы смогли в понедельник понедельник подняться позитивно с постели герой в вы понедельник\n"
          ]
        }
      ]
    }
  ]
}